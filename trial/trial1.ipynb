{
 "cells": [
  {
   "cell_type": "code",
   "execution_count": 1,
   "metadata": {
    "collapsed": true
   },
   "outputs": [],
   "source": [
    "import os\n",
    "import numpy as np\n",
    "import pandas as pd\n",
    "\n",
    "from sklearn.preprocessing import LabelEncoder\n",
    "\n",
    "from sklearn.cross_validation import cross_val_score\n",
    "\n",
    "from sklearn.linear_model import LogisticRegression\n",
    "from sklearn.ensemble import RandomForestClassifier, GradientBoostingClassifier"
   ]
  },
  {
   "cell_type": "code",
   "execution_count": 2,
   "metadata": {
    "collapsed": false
   },
   "outputs": [],
   "source": [
    "data_dir = os.path.join(os.path.expanduser('~'), 'workspace/talkinData/data')\n",
    "sub_dir = os.path.join(os.path.expanduser('~'), 'workspace/talkinData/sub')"
   ]
  },
  {
   "cell_type": "code",
   "execution_count": 3,
   "metadata": {
    "collapsed": false
   },
   "outputs": [],
   "source": [
    "train = pd.read_csv(os.path.join(data_dir, 'gender_age_train.csv'))\n",
    "\n",
    "pbdm = pd.read_csv(os.path.join(data_dir, 'phone_brand_device_model.csv'))\n",
    "pbdm.drop_duplicates('device_id', keep='first', inplace=True)\n",
    "\n",
    "test = pd.read_csv(os.path.join(data_dir, 'gender_age_test.csv'))\n",
    "\n",
    "sample_sub = pd.read_csv(os.path.join(sub_dir, 'sample_submission.csv'))"
   ]
  },
  {
   "cell_type": "code",
   "execution_count": 4,
   "metadata": {
    "collapsed": false
   },
   "outputs": [
    {
     "data": {
      "text/html": [
       "<div>\n",
       "<table border=\"1\" class=\"dataframe\">\n",
       "  <thead>\n",
       "    <tr style=\"text-align: right;\">\n",
       "      <th></th>\n",
       "      <th>device_id</th>\n",
       "      <th>gender</th>\n",
       "      <th>age</th>\n",
       "      <th>group</th>\n",
       "    </tr>\n",
       "  </thead>\n",
       "  <tbody>\n",
       "    <tr>\n",
       "      <th>0</th>\n",
       "      <td>-8076087639492063270</td>\n",
       "      <td>M</td>\n",
       "      <td>35</td>\n",
       "      <td>M32-38</td>\n",
       "    </tr>\n",
       "    <tr>\n",
       "      <th>1</th>\n",
       "      <td>-2897161552818060146</td>\n",
       "      <td>M</td>\n",
       "      <td>35</td>\n",
       "      <td>M32-38</td>\n",
       "    </tr>\n",
       "    <tr>\n",
       "      <th>2</th>\n",
       "      <td>-8260683887967679142</td>\n",
       "      <td>M</td>\n",
       "      <td>35</td>\n",
       "      <td>M32-38</td>\n",
       "    </tr>\n",
       "    <tr>\n",
       "      <th>3</th>\n",
       "      <td>-4938849341048082022</td>\n",
       "      <td>M</td>\n",
       "      <td>30</td>\n",
       "      <td>M29-31</td>\n",
       "    </tr>\n",
       "    <tr>\n",
       "      <th>4</th>\n",
       "      <td>245133531816851882</td>\n",
       "      <td>M</td>\n",
       "      <td>30</td>\n",
       "      <td>M29-31</td>\n",
       "    </tr>\n",
       "  </tbody>\n",
       "</table>\n",
       "</div>"
      ],
      "text/plain": [
       "             device_id gender  age   group\n",
       "0 -8076087639492063270      M   35  M32-38\n",
       "1 -2897161552818060146      M   35  M32-38\n",
       "2 -8260683887967679142      M   35  M32-38\n",
       "3 -4938849341048082022      M   30  M29-31\n",
       "4   245133531816851882      M   30  M29-31"
      ]
     },
     "execution_count": 4,
     "metadata": {},
     "output_type": "execute_result"
    }
   ],
   "source": [
    "train.head()"
   ]
  },
  {
   "cell_type": "code",
   "execution_count": 5,
   "metadata": {
    "collapsed": false
   },
   "outputs": [
    {
     "name": "stdout",
     "output_type": "stream",
     "text": [
      "<class 'pandas.core.frame.DataFrame'>\n",
      "Int64Index: 186716 entries, 0 to 187243\n",
      "Data columns (total 3 columns):\n",
      "device_id       186716 non-null int64\n",
      "phone_brand     186716 non-null object\n",
      "device_model    186716 non-null object\n",
      "dtypes: int64(1), object(2)\n",
      "memory usage: 5.7+ MB\n"
     ]
    }
   ],
   "source": [
    "pbdm.info()"
   ]
  },
  {
   "cell_type": "code",
   "execution_count": 6,
   "metadata": {
    "collapsed": false
   },
   "outputs": [],
   "source": [
    "train_all = pd.merge(train, pbdm, on='device_id', how='left', left_index=True)\n",
    "\n",
    "test_all = pd.merge(test, pbdm, on='device_id', how='left', left_index=True)"
   ]
  },
  {
   "cell_type": "code",
   "execution_count": 9,
   "metadata": {
    "collapsed": false
   },
   "outputs": [
    {
     "data": {
      "text/html": [
       "<div>\n",
       "<table border=\"1\" class=\"dataframe\">\n",
       "  <thead>\n",
       "    <tr style=\"text-align: right;\">\n",
       "      <th></th>\n",
       "      <th>device_id</th>\n",
       "      <th>gender</th>\n",
       "      <th>age</th>\n",
       "      <th>group</th>\n",
       "      <th>phone_brand</th>\n",
       "      <th>device_model</th>\n",
       "    </tr>\n",
       "  </thead>\n",
       "  <tbody>\n",
       "    <tr>\n",
       "      <th>56800</th>\n",
       "      <td>-8076087639492063270</td>\n",
       "      <td>M</td>\n",
       "      <td>35</td>\n",
       "      <td>M32-38</td>\n",
       "      <td>51</td>\n",
       "      <td>749</td>\n",
       "    </tr>\n",
       "    <tr>\n",
       "      <th>41294</th>\n",
       "      <td>-2897161552818060146</td>\n",
       "      <td>M</td>\n",
       "      <td>35</td>\n",
       "      <td>M32-38</td>\n",
       "      <td>51</td>\n",
       "      <td>749</td>\n",
       "    </tr>\n",
       "    <tr>\n",
       "      <th>9993</th>\n",
       "      <td>-8260683887967679142</td>\n",
       "      <td>M</td>\n",
       "      <td>35</td>\n",
       "      <td>M32-38</td>\n",
       "      <td>51</td>\n",
       "      <td>749</td>\n",
       "    </tr>\n",
       "    <tr>\n",
       "      <th>179893</th>\n",
       "      <td>-4938849341048082022</td>\n",
       "      <td>M</td>\n",
       "      <td>30</td>\n",
       "      <td>M29-31</td>\n",
       "      <td>51</td>\n",
       "      <td>1524</td>\n",
       "    </tr>\n",
       "    <tr>\n",
       "      <th>102570</th>\n",
       "      <td>245133531816851882</td>\n",
       "      <td>M</td>\n",
       "      <td>30</td>\n",
       "      <td>M29-31</td>\n",
       "      <td>51</td>\n",
       "      <td>753</td>\n",
       "    </tr>\n",
       "  </tbody>\n",
       "</table>\n",
       "</div>"
      ],
      "text/plain": [
       "                  device_id gender  age   group  phone_brand  device_model\n",
       "56800  -8076087639492063270      M   35  M32-38           51           749\n",
       "41294  -2897161552818060146      M   35  M32-38           51           749\n",
       "9993   -8260683887967679142      M   35  M32-38           51           749\n",
       "179893 -4938849341048082022      M   30  M29-31           51          1524\n",
       "102570   245133531816851882      M   30  M29-31           51           753"
      ]
     },
     "execution_count": 9,
     "metadata": {},
     "output_type": "execute_result"
    }
   ],
   "source": [
    "train_all.head()"
   ]
  },
  {
   "cell_type": "code",
   "execution_count": 8,
   "metadata": {
    "collapsed": false
   },
   "outputs": [],
   "source": [
    "cat_col = ['phone_brand', 'device_model']\n",
    "\n",
    "lb = LabelEncoder()\n",
    "for var in cat_col:\n",
    "    full_data = pd.concat((train_all[var], test_all[var]), axis=0).astype('str')\n",
    "    lb.fit(full_data)\n",
    "    train_all[var] = lb.transform(train_all[var].astype('str'))\n",
    "    test_all[var] = lb.transform(test_all[var].astype('str'))"
   ]
  },
  {
   "cell_type": "code",
   "execution_count": 24,
   "metadata": {
    "collapsed": false
   },
   "outputs": [],
   "source": [
    "# phone_count\n",
    "def phone_putter(var):\n",
    "    if phone_count.has_key(var):\n",
    "        return phone_count[var]\n",
    "    else:\n",
    "        return 0\n",
    "        \n",
    "def device_putter(var):\n",
    "    if dev_model_count.has_key(var):\n",
    "        return dev_model_count[var]\n",
    "    else:\n",
    "        return 0\n",
    "\n",
    "phone_count = train_all.groupby('phone_brand')['device_model'].count().to_dict()\n",
    "train_all['phone_count'] = train_all.phone_brand.apply(phone_putter)\n",
    "test_all['phone_count'] = test_all.phone_brand.apply(phone_putter)\n",
    "\n",
    "# device_count\n",
    "dev_model_count = train_all.groupby('device_model')['phone_brand'].count().to_dict()\n",
    "train_all['device_count'] = train_all.device_model.apply(device_putter)\n",
    "test_all['device_count'] = test_all.device_model.apply(device_putter)"
   ]
  },
  {
   "cell_type": "code",
   "execution_count": 25,
   "metadata": {
    "collapsed": false
   },
   "outputs": [
    {
     "data": {
      "text/html": [
       "<div>\n",
       "<table border=\"1\" class=\"dataframe\">\n",
       "  <thead>\n",
       "    <tr style=\"text-align: right;\">\n",
       "      <th></th>\n",
       "      <th>device_id</th>\n",
       "      <th>gender</th>\n",
       "      <th>age</th>\n",
       "      <th>group</th>\n",
       "      <th>phone_brand</th>\n",
       "      <th>device_model</th>\n",
       "      <th>phone_count</th>\n",
       "      <th>device_count</th>\n",
       "    </tr>\n",
       "  </thead>\n",
       "  <tbody>\n",
       "    <tr>\n",
       "      <th>56800</th>\n",
       "      <td>-8076087639492063270</td>\n",
       "      <td>M</td>\n",
       "      <td>35</td>\n",
       "      <td>M32-38</td>\n",
       "      <td>51</td>\n",
       "      <td>749</td>\n",
       "      <td>17299</td>\n",
       "      <td>511</td>\n",
       "    </tr>\n",
       "    <tr>\n",
       "      <th>41294</th>\n",
       "      <td>-2897161552818060146</td>\n",
       "      <td>M</td>\n",
       "      <td>35</td>\n",
       "      <td>M32-38</td>\n",
       "      <td>51</td>\n",
       "      <td>749</td>\n",
       "      <td>17299</td>\n",
       "      <td>511</td>\n",
       "    </tr>\n",
       "    <tr>\n",
       "      <th>9993</th>\n",
       "      <td>-8260683887967679142</td>\n",
       "      <td>M</td>\n",
       "      <td>35</td>\n",
       "      <td>M32-38</td>\n",
       "      <td>51</td>\n",
       "      <td>749</td>\n",
       "      <td>17299</td>\n",
       "      <td>511</td>\n",
       "    </tr>\n",
       "    <tr>\n",
       "      <th>179893</th>\n",
       "      <td>-4938849341048082022</td>\n",
       "      <td>M</td>\n",
       "      <td>30</td>\n",
       "      <td>M29-31</td>\n",
       "      <td>51</td>\n",
       "      <td>1524</td>\n",
       "      <td>17299</td>\n",
       "      <td>3013</td>\n",
       "    </tr>\n",
       "    <tr>\n",
       "      <th>102570</th>\n",
       "      <td>245133531816851882</td>\n",
       "      <td>M</td>\n",
       "      <td>30</td>\n",
       "      <td>M29-31</td>\n",
       "      <td>51</td>\n",
       "      <td>753</td>\n",
       "      <td>17299</td>\n",
       "      <td>2299</td>\n",
       "    </tr>\n",
       "  </tbody>\n",
       "</table>\n",
       "</div>"
      ],
      "text/plain": [
       "                  device_id gender  age   group  phone_brand  device_model  \\\n",
       "56800  -8076087639492063270      M   35  M32-38           51           749   \n",
       "41294  -2897161552818060146      M   35  M32-38           51           749   \n",
       "9993   -8260683887967679142      M   35  M32-38           51           749   \n",
       "179893 -4938849341048082022      M   30  M29-31           51          1524   \n",
       "102570   245133531816851882      M   30  M29-31           51           753   \n",
       "\n",
       "        phone_count  device_count  \n",
       "56800         17299           511  \n",
       "41294         17299           511  \n",
       "9993          17299           511  \n",
       "179893        17299          3013  \n",
       "102570        17299          2299  "
      ]
     },
     "execution_count": 25,
     "metadata": {},
     "output_type": "execute_result"
    }
   ],
   "source": [
    "train_all.head()"
   ]
  },
  {
   "cell_type": "code",
   "execution_count": 29,
   "metadata": {
    "collapsed": false
   },
   "outputs": [
    {
     "data": {
      "text/html": [
       "<div>\n",
       "<table border=\"1\" class=\"dataframe\">\n",
       "  <thead>\n",
       "    <tr style=\"text-align: right;\">\n",
       "      <th></th>\n",
       "      <th>device_id</th>\n",
       "      <th>phone_brand</th>\n",
       "      <th>device_model</th>\n",
       "      <th>phone_count</th>\n",
       "      <th>device_count</th>\n",
       "    </tr>\n",
       "  </thead>\n",
       "  <tbody>\n",
       "    <tr>\n",
       "      <th>78253</th>\n",
       "      <td>1002079943728939269</td>\n",
       "      <td>51</td>\n",
       "      <td>1482</td>\n",
       "      <td>17299</td>\n",
       "      <td>620</td>\n",
       "    </tr>\n",
       "    <tr>\n",
       "      <th>84501</th>\n",
       "      <td>-1547860181818787117</td>\n",
       "      <td>51</td>\n",
       "      <td>1519</td>\n",
       "      <td>17299</td>\n",
       "      <td>824</td>\n",
       "    </tr>\n",
       "    <tr>\n",
       "      <th>104765</th>\n",
       "      <td>7374582448058474277</td>\n",
       "      <td>31</td>\n",
       "      <td>1371</td>\n",
       "      <td>12960</td>\n",
       "      <td>0</td>\n",
       "    </tr>\n",
       "    <tr>\n",
       "      <th>145592</th>\n",
       "      <td>-6220210354783429585</td>\n",
       "      <td>31</td>\n",
       "      <td>1544</td>\n",
       "      <td>12960</td>\n",
       "      <td>1239</td>\n",
       "    </tr>\n",
       "    <tr>\n",
       "      <th>12144</th>\n",
       "      <td>-5893464122623104785</td>\n",
       "      <td>51</td>\n",
       "      <td>749</td>\n",
       "      <td>17299</td>\n",
       "      <td>511</td>\n",
       "    </tr>\n",
       "  </tbody>\n",
       "</table>\n",
       "</div>"
      ],
      "text/plain": [
       "                  device_id  phone_brand  device_model  phone_count  \\\n",
       "78253   1002079943728939269           51          1482        17299   \n",
       "84501  -1547860181818787117           51          1519        17299   \n",
       "104765  7374582448058474277           31          1371        12960   \n",
       "145592 -6220210354783429585           31          1544        12960   \n",
       "12144  -5893464122623104785           51           749        17299   \n",
       "\n",
       "        device_count  \n",
       "78253            620  \n",
       "84501            824  \n",
       "104765             0  \n",
       "145592          1239  \n",
       "12144            511  "
      ]
     },
     "execution_count": 29,
     "metadata": {},
     "output_type": "execute_result"
    }
   ],
   "source": [
    "test_all.head()"
   ]
  },
  {
   "cell_type": "code",
   "execution_count": null,
   "metadata": {
    "collapsed": true
   },
   "outputs": [],
   "source": []
  },
  {
   "cell_type": "code",
   "execution_count": null,
   "metadata": {
    "collapsed": true
   },
   "outputs": [],
   "source": []
  },
  {
   "cell_type": "code",
   "execution_count": null,
   "metadata": {
    "collapsed": true
   },
   "outputs": [],
   "source": []
  },
  {
   "cell_type": "code",
   "execution_count": null,
   "metadata": {
    "collapsed": true
   },
   "outputs": [],
   "source": []
  },
  {
   "cell_type": "code",
   "execution_count": 31,
   "metadata": {
    "collapsed": true
   },
   "outputs": [],
   "source": [
    "train_cols = ['phone_brand', 'device_model', 'phone_count', 'device_count']\n",
    "\n",
    "data_x = train_all.ix[:, train_cols]\n",
    "data_y = train_all.group.values\n",
    "\n",
    "data_x_test = test_all.ix[:, train_cols]"
   ]
  },
  {
   "cell_type": "code",
   "execution_count": 32,
   "metadata": {
    "collapsed": true
   },
   "outputs": [],
   "source": [
    "clf1 = RandomForestClassifier(n_estimators=250, n_jobs=3, max_depth=6)"
   ]
  },
  {
   "cell_type": "code",
   "execution_count": 77,
   "metadata": {
    "collapsed": true
   },
   "outputs": [],
   "source": [
    "clf2 = LogisticRegression(n_jobs=3)"
   ]
  },
  {
   "cell_type": "code",
   "execution_count": 99,
   "metadata": {
    "collapsed": true
   },
   "outputs": [],
   "source": [
    "clf3 = GradientBoostingClassifier(max_depth=6, n_estimators=250)"
   ]
  },
  {
   "cell_type": "markdown",
   "metadata": {
    "collapsed": false
   },
   "source": [
    "## Benchmark score\n",
    "\n",
    "### Features : \n",
    "\n",
    "* phone_brand\n",
    "* device_model\n",
    "\n",
    "### Model\n",
    "\n",
    "* RandomForestClassifier(n_estimators=250, n_jobs=3, max_depth=5)\n",
    "\n",
    "### Score\n",
    "* array([-2.40141466, -2.40489151, -2.40238346])\n",
    "\n",
    "### LB Score\n",
    "* 2.39"
   ]
  },
  {
   "cell_type": "markdown",
   "metadata": {},
   "source": [
    "---------------\n",
    "\n",
    "## Highest local score\n",
    "\n",
    "### Features : \n",
    "\n",
    "* phone_brand\n",
    "* device_model\n",
    "* phone_count\n",
    "* device_count\n",
    "\n",
    "\n",
    "### Model\n",
    "\n",
    "* RandomForestClassifier(n_estimators=250, n_jobs=3, max_depth=6)\n",
    "\n",
    "### Score\n",
    "* [-2.40089375 -2.40244605 -2.40174421] \n",
    "  * -2.40169467067"
   ]
  },
  {
   "cell_type": "code",
   "execution_count": 33,
   "metadata": {
    "collapsed": false
   },
   "outputs": [
    {
     "name": "stdout",
     "output_type": "stream",
     "text": [
      "[-2.40080737 -2.4024285  -2.40175078] -2.40166221725\n"
     ]
    }
   ],
   "source": [
    "a = cross_val_score(clf1, data_x, data_y, cv = 3, scoring='log_loss')\n",
    "print a, a.mean()"
   ]
  },
  {
   "cell_type": "code",
   "execution_count": 91,
   "metadata": {
    "collapsed": false
   },
   "outputs": [
    {
     "data": {
      "text/plain": [
       "array([-2.43617993, -2.45988826, -2.44778023])"
      ]
     },
     "execution_count": 91,
     "metadata": {},
     "output_type": "execute_result"
    }
   ],
   "source": [
    "cross_val_score(clf2, data_x, data_y, cv = 3, scoring='log_loss')"
   ]
  },
  {
   "cell_type": "code",
   "execution_count": 127,
   "metadata": {
    "collapsed": false,
    "scrolled": true
   },
   "outputs": [
    {
     "name": "stdout",
     "output_type": "stream",
     "text": [
      "[-2.49159475 -2.49242333 -2.49094507] -2.49165438419\n"
     ]
    }
   ],
   "source": [
    "a = cross_val_score(clf3, data_x, data_y, cv = 3, scoring='log_loss')\n",
    "print a, a.mean()"
   ]
  },
  {
   "cell_type": "code",
   "execution_count": null,
   "metadata": {
    "collapsed": true
   },
   "outputs": [],
   "source": []
  },
  {
   "cell_type": "code",
   "execution_count": 123,
   "metadata": {
    "collapsed": true
   },
   "outputs": [],
   "source": []
  },
  {
   "cell_type": "code",
   "execution_count": 34,
   "metadata": {
    "collapsed": false
   },
   "outputs": [
    {
     "data": {
      "text/plain": [
       "[('phone_brand', 0.32060275593571735),\n",
       " ('device_model', 0.27714569337949552),\n",
       " ('phone_count', 0.23572972044937235),\n",
       " ('device_count', 0.16652183023541475)]"
      ]
     },
     "execution_count": 34,
     "metadata": {},
     "output_type": "execute_result"
    }
   ],
   "source": [
    "clf1.fit(data_x, data_y);\n",
    "zip(data_x.columns, clf1.feature_importances_)"
   ]
  },
  {
   "cell_type": "code",
   "execution_count": 97,
   "metadata": {
    "collapsed": false
   },
   "outputs": [
    {
     "data": {
      "text/plain": [
       "[('phone_brand', 0.13498266959399377),\n",
       " ('device_model', 0.7708095973313418),\n",
       " ('phone_count', 0.094207733074664152)]"
      ]
     },
     "execution_count": 97,
     "metadata": {},
     "output_type": "execute_result"
    }
   ],
   "source": [
    "clf3.fit(data_x, data_y);\n",
    "zip(data_x.columns, clf3.feature_importances_)"
   ]
  },
  {
   "cell_type": "code",
   "execution_count": null,
   "metadata": {
    "collapsed": true
   },
   "outputs": [],
   "source": []
  },
  {
   "cell_type": "code",
   "execution_count": 35,
   "metadata": {
    "collapsed": true
   },
   "outputs": [],
   "source": [
    "clf1.fit(data_x, data_y);"
   ]
  },
  {
   "cell_type": "code",
   "execution_count": 36,
   "metadata": {
    "collapsed": false
   },
   "outputs": [],
   "source": [
    "pred = clf1.predict_proba(data_x_test)"
   ]
  },
  {
   "cell_type": "code",
   "execution_count": 37,
   "metadata": {
    "collapsed": false
   },
   "outputs": [],
   "source": [
    "sub = pd.DataFrame(pred, columns=clf1.classes_)\n",
    "sub['device_id'] = test_all.device_id.values"
   ]
  },
  {
   "cell_type": "code",
   "execution_count": 39,
   "metadata": {
    "collapsed": true
   },
   "outputs": [],
   "source": [
    "sub.to_csv(os.path.join(sub_dir, 'sub05.csv'), index=False)"
   ]
  },
  {
   "cell_type": "code",
   "execution_count": null,
   "metadata": {
    "collapsed": true
   },
   "outputs": [],
   "source": []
  },
  {
   "cell_type": "code",
   "execution_count": 112,
   "metadata": {
    "collapsed": false
   },
   "outputs": [],
   "source": [
    "a = train_all.groupby('device_model')['phone_brand'].count().to_dict()"
   ]
  },
  {
   "cell_type": "code",
   "execution_count": 114,
   "metadata": {
    "collapsed": false,
    "scrolled": true
   },
   "outputs": [],
   "source": [
    "b = train_all.device_model.apply(lambda x : a[x])"
   ]
  },
  {
   "cell_type": "code",
   "execution_count": 116,
   "metadata": {
    "collapsed": false,
    "scrolled": true
   },
   "outputs": [
    {
     "data": {
      "text/plain": [
       "(74645,)"
      ]
     },
     "execution_count": 116,
     "metadata": {},
     "output_type": "execute_result"
    }
   ],
   "source": [
    "b.shape"
   ]
  },
  {
   "cell_type": "code",
   "execution_count": null,
   "metadata": {
    "collapsed": true
   },
   "outputs": [],
   "source": []
  }
 ],
 "metadata": {
  "kernelspec": {
   "display_name": "Python 2",
   "language": "python",
   "name": "python2"
  },
  "language_info": {
   "codemirror_mode": {
    "name": "ipython",
    "version": 2
   },
   "file_extension": ".py",
   "mimetype": "text/x-python",
   "name": "python",
   "nbconvert_exporter": "python",
   "pygments_lexer": "ipython2",
   "version": "2.7.11"
  }
 },
 "nbformat": 4,
 "nbformat_minor": 0
}
